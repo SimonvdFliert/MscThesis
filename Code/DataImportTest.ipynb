{
 "cells": [
  {
   "cell_type": "code",
   "execution_count": null,
   "metadata": {},
   "outputs": [],
   "source": []
  },
  {
   "cell_type": "code",
   "execution_count": 1,
   "metadata": {},
   "outputs": [],
   "source": [
    "import WebNLG_xmlReader.benchmark_reader as xml_reader"
   ]
  },
  {
   "cell_type": "code",
   "execution_count": 2,
   "metadata": {},
   "outputs": [],
   "source": [
    "b = xml_reader.Benchmark()"
   ]
  },
  {
   "cell_type": "code",
   "execution_count": 3,
   "metadata": {},
   "outputs": [],
   "source": [
    "list_of_devs = [\n",
    "                'Data/CACAPO/en/Incidents/WebNLGFormatDev.xml', \n",
    "                'Data/CACAPO/en/Sports/WebNLGFormatDev.xml', \n",
    "                'Data/CACAPO/en/Stocks//WebNLGFormatDev.xml', \n",
    "                'Data/CACAPO/en/Weather/WebNLGFormatDev.xml', \n",
    "                'Data/CACAPO/nl/Incidents/WebNLGFormatDev.xml', \n",
    "                'Data/CACAPO/nl/Sports/WebNLGFormatDev.xml', \n",
    "                'Data/CACAPO/nl/Stocks//WebNLGFormatDev.xml', \n",
    "                'Data/CACAPO/nl/Weather/WebNLGFormatDev.xml']"
   ]
  },
  {
   "cell_type": "code",
   "execution_count": 4,
   "metadata": {},
   "outputs": [],
   "source": [
    "files = xml_reader.select_files(list_of_devs)"
   ]
  },
  {
   "cell_type": "code",
   "execution_count": 5,
   "metadata": {},
   "outputs": [],
   "source": [
    "filepath = 'Data/CACAPO/en/Incidents/WebNLGFormatDev.xml'"
   ]
  },
  {
   "cell_type": "code",
   "execution_count": 6,
   "metadata": {},
   "outputs": [
    {
     "name": "stdout",
     "output_type": "stream",
     "text": [
      "[('Data/CACAPO/en/Incidents', 'WebNLGFormatDev.xml'), ('Data/CACAPO/en/Sports', 'WebNLGFormatDev.xml'), ('Data/CACAPO/en/Stocks', 'WebNLGFormatDev.xml'), ('Data/CACAPO/en/Weather', 'WebNLGFormatDev.xml'), ('Data/CACAPO/nl/Incidents', 'WebNLGFormatDev.xml'), ('Data/CACAPO/nl/Sports', 'WebNLGFormatDev.xml'), ('Data/CACAPO/nl/Stocks', 'WebNLGFormatDev.xml'), ('Data/CACAPO/nl/Weather', 'WebNLGFormatDev.xml')]\n"
     ]
    }
   ],
   "source": [
    "print(files)"
   ]
  },
  {
   "cell_type": "code",
   "execution_count": 7,
   "metadata": {},
   "outputs": [],
   "source": [
    "b.fill_benchmark(files)"
   ]
  },
  {
   "cell_type": "code",
   "execution_count": 8,
   "metadata": {},
   "outputs": [
    {
     "name": "stdout",
     "output_type": "stream",
     "text": [
      "Number of entries:  1831\n",
      "Number of texts:  1831\n",
      "Number of distinct properties:  3540\n"
     ]
    }
   ],
   "source": [
    "print(\"Number of entries: \", b.entry_count())\n",
    "print(\"Number of texts: \", b.total_lexcount())\n",
    "print(\"Number of distinct properties: \", len(list(b.unique_p_mtriples())))\n"
   ]
  },
  {
   "cell_type": "markdown",
   "metadata": {},
   "source": [
    "en incidents: 276\n",
    "en sports: 722\n",
    "en stocks: 434\n",
    "en weather: 454\n",
    "nl incidents: 246\n",
    "nl sports: 500\n",
    "nl stocks: 542\n",
    "nl weather: 488"
   ]
  },
  {
   "cell_type": "code",
   "execution_count": null,
   "metadata": {},
   "outputs": [],
   "source": [
    "dubbled = 276 + 722 + 434 + 454 + 246 + 500 + 542+ 488\n",
    "total = dubbled // 2"
   ]
  },
  {
   "cell_type": "code",
   "execution_count": null,
   "metadata": {},
   "outputs": [],
   "source": [
    "total"
   ]
  },
  {
   "cell_type": "code",
   "execution_count": null,
   "metadata": {},
   "outputs": [],
   "source": [
    "first_entry = b.entries[0]"
   ]
  },
  {
   "cell_type": "code",
   "execution_count": null,
   "metadata": {},
   "outputs": [],
   "source": [
    "texts = first_entry.lexs"
   ]
  },
  {
   "cell_type": "code",
   "execution_count": null,
   "metadata": {},
   "outputs": [],
   "source": [
    "for text in texts:\n",
    "    print(f'texts   {text}')"
   ]
  },
  {
   "cell_type": "code",
   "execution_count": null,
   "metadata": {},
   "outputs": [],
   "source": [
    "print(texts[0].lex)"
   ]
  },
  {
   "cell_type": "code",
   "execution_count": null,
   "metadata": {},
   "outputs": [],
   "source": [
    "first_entry.originaltripleset"
   ]
  },
  {
   "cell_type": "code",
   "execution_count": null,
   "metadata": {},
   "outputs": [],
   "source": [
    "first_entry.list_triples()"
   ]
  },
  {
   "cell_type": "code",
   "execution_count": null,
   "metadata": {},
   "outputs": [],
   "source": [
    "first_entry.lexs[1]"
   ]
  },
  {
   "cell_type": "code",
   "execution_count": 14,
   "metadata": {},
   "outputs": [
    {
     "name": "stdout",
     "output_type": "stream",
     "text": [
      "Info about Id1 in category 'DutchIncidents' in size '4':\n",
      "# of lexicalisations 1\n",
      "Properties:  {'University_City_condominium_complex', 'injured', 'woman', 'April'}\n",
      "RDF triples:  ['accidentAddress | University_City_condominium_complex', 'accidentDate | April', 'victimGender | woman', 'victimStatus | injured']\n",
      "Subject: accidentAddress\n",
      "Predicate: University_City_condominium_complex\n",
      "Lexicalisation: \n",
      "\t\t\t\t\n"
     ]
    }
   ],
   "source": [
    " #get access to each entry info\n",
    "for entry in b.entries:\n",
    "    print(f\"Info about {entry.id} in category '{entry.category}' in size '{entry.size}':\")\n",
    "    print(\"# of lexicalisations\", entry.count_lexs())\n",
    "    print(\"Properties: \", entry.relations())\n",
    "    print(\"RDF triples: \", entry.list_triples())\n",
    "    print(\"Subject:\", entry.modifiedtripleset.triples[0].s)\n",
    "    print(\"Predicate:\", entry.modifiedtripleset.triples[0].p)\n",
    "    print(\"Lexicalisation:\", entry.lexs[0].lex)\n",
    "    #print(\"Another lexicalisation:\", entry.lexs[1].lex)\n",
    "    if entry.dbpedialinks:\n",
    "        # dbpedialinks is a list where each element is a Triple instance\n",
    "        print(\"DB link, en:\", entry.dbpedialinks[0].s)  # subject in English\n",
    "        print(\"DB link, ru:\", entry.dbpedialinks[0].o)  # object in Russian\n",
    "\n",
    "    entry.lexs[0].text\n",
    "    break\n"
   ]
  },
  {
   "cell_type": "code",
   "execution_count": 15,
   "metadata": {},
   "outputs": [],
   "source": [
    "check = b.entries[0]"
   ]
  },
  {
   "cell_type": "code",
   "execution_count": 16,
   "metadata": {},
   "outputs": [
    {
     "data": {
      "text/plain": [
       "<WebNLG_xmlReader.benchmark_reader.Lexicalisation at 0x18f1438bdc0>"
      ]
     },
     "execution_count": 16,
     "metadata": {},
     "output_type": "execute_result"
    }
   ],
   "source": [
    "check.lexs[0]"
   ]
  },
  {
   "cell_type": "code",
   "execution_count": 17,
   "metadata": {},
   "outputs": [
    {
     "data": {
      "text/plain": [
       "'A woman injured when a gunman opened fire on a poolside birthday party at a University City condominium complex in April filed a lawsuit on Wednesday claiming the gunman’s family should have known he was a “walking time bomb.”\\n'"
      ]
     },
     "execution_count": 17,
     "metadata": {},
     "output_type": "execute_result"
    }
   ],
   "source": [
    "check.lexs[0].return_text()"
   ]
  },
  {
   "cell_type": "code",
   "execution_count": null,
   "metadata": {},
   "outputs": [],
   "source": []
  }
 ],
 "metadata": {
  "kernelspec": {
   "display_name": "Python 3.9.7 ('base')",
   "language": "python",
   "name": "python3"
  },
  "language_info": {
   "codemirror_mode": {
    "name": "ipython",
    "version": 3
   },
   "file_extension": ".py",
   "mimetype": "text/x-python",
   "name": "python",
   "nbconvert_exporter": "python",
   "pygments_lexer": "ipython3",
   "version": "3.9.7"
  },
  "orig_nbformat": 4,
  "vscode": {
   "interpreter": {
    "hash": "91bb753b057673435fb8d6f6a083e6c818364728098c7ae050ca3a25357dd754"
   }
  }
 },
 "nbformat": 4,
 "nbformat_minor": 2
}
